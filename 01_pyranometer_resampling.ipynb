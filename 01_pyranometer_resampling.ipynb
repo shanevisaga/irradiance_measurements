{
 "cells": [
  {
   "cell_type": "code",
   "execution_count": 74,
   "id": "f1c70148",
   "metadata": {},
   "outputs": [],
   "source": [
    "'''\n",
    "01_pyranometer_resampling\n",
    "This code calls daily files containing pyranometer VDC values\n",
    "and perform:\n",
    "a) calibrate to get irradiance data\n",
    "b) quality check to remove negative irradiance values\n",
    "c) resample at 1 minute and 10 minute\n",
    "d) save the processed files (each file contains 1 month worth of data)\n",
    "\n",
    "By: Shane Visaga\n",
    "updated: February 20 2023\n",
    "'''\n",
    "\n",
    "import glob\n",
    "import os\n",
    "\n",
    "import numpy as np\n",
    "import pandas as pd\n",
    "np.set_printoptions(threshold=sys.maxsize)\n",
    "\n",
    "import pytz\n",
    "\n",
    "\n",
    "\n"
   ]
  },
  {
   "cell_type": "code",
   "execution_count": 75,
   "id": "c4e88feb",
   "metadata": {},
   "outputs": [],
   "source": [
    "tz = pytz.timezone(\"Asia/Manila\")"
   ]
  },
  {
   "cell_type": "code",
   "execution_count": 79,
   "id": "64f3d8b4",
   "metadata": {},
   "outputs": [],
   "source": [
    "path = '/Users/apple/Desktop/Others/Python_Codes/wrf_solar/pyranometer/' # use your path\n",
    "for m in np.arange(1, 13, 1):\n",
    "\n",
    "    all_files = glob.glob(os.path.join(path, f'{m:02}*.csv'))\n",
    "    obs = pd.concat((pd.read_csv(f) for f in all_files), ignore_index=True)\n",
    "\n",
    "    #calibration\n",
    "    obs['CMP22_Total_Solar'] = obs['CMP22_Total_Solar_VDC'] * 109.62\n",
    "    obs['SPN1_Total_Solar'] = obs['SPN1_Total_Solar_VDC'] * 1000\n",
    "    obs['SPN1_Diff_Solar'] = obs['SPN1_Diff_Solar_VDC'] * 1000\n",
    "    obs['CGR4_Temp'] = -245.69 + (2.3554* obs['CGR4_Temp_OHM']) + (0.0010138* ((obs['CGR4_Temp_OHM']**2)))\n",
    "    obs['CGR4_IR'] = ((92.837*obs['CGR4_IR_VDC'])  - 22.815) + ((5.67*(1E-8)) * ((obs['CGR4_Temp_OHM'] + 273.16)**4))\n",
    "\n",
    "    obs = obs[['Time','CMP22_Total_Solar', 'SPN1_Total_Solar', 'SPN1_Diff_Solar', 'CGR4_IR']]\n",
    "\n",
    "    #localizing time to UTC\n",
    "    obs['Time'] = pd.to_datetime(obs['Time']).dt.tz_localize(\"utc\")\n",
    "\n",
    "    #valid values only; no negatives\n",
    "    obs = obs[obs['SPN1_Total_Solar'] >= 0]\n",
    "\n",
    "    obs = obs.set_index('Time')\n",
    "\n",
    "\n",
    "    #resample to 1 minute\n",
    "    obs1 = obs.resample('1min').mean()\n",
    "    obs1.to_csv(f'processed/{m:02}_1min_resample.csv')\n",
    "\n",
    "    #resample to 10 minute\n",
    "    obs10 = obs.resample('10min').mean()\n",
    "    obs10.to_csv(f'processed/{m:02}_10min_resample.csv')\n",
    "\n",
    "    "
   ]
  }
 ],
 "metadata": {
  "kernelspec": {
   "display_name": "Python 3 (ipykernel)",
   "language": "python",
   "name": "python3"
  },
  "language_info": {
   "codemirror_mode": {
    "name": "ipython",
    "version": 3
   },
   "file_extension": ".py",
   "mimetype": "text/x-python",
   "name": "python",
   "nbconvert_exporter": "python",
   "pygments_lexer": "ipython3",
   "version": "3.9.7"
  }
 },
 "nbformat": 4,
 "nbformat_minor": 5
}
